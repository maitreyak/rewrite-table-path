{
 "cells": [
  {
   "cell_type": "code",
   "execution_count": 1,
   "id": "61158220-0140-448d-b9b5-c7ae56d073fb",
   "metadata": {},
   "outputs": [],
   "source": [
    "from pyspark.sql import SparkSession\n",
    "from pyspark import SparkConf"
   ]
  },
  {
   "cell_type": "code",
   "execution_count": 2,
   "id": "a857b0a2-a357-4800-aedf-7ecc40f61b35",
   "metadata": {},
   "outputs": [
    {
     "name": "stdout",
     "output_type": "stream",
     "text": [
      "('00007-20a0f8eb-2f0e-4809-a960-99711ccb5bc5.metadata.json', '00006-ff1eefe4-94f3-4627-b2cf-4ad1adf357a6.metadata.json')\n"
     ]
    }
   ],
   "source": [
    "import boto3\n",
    "boto3.setup_default_session(profile_name='adfs')\n",
    "def active_iceberg_table_metadata(active_database_name, active_table_name):\n",
    "    glue = boto3.client(\"glue\")\n",
    "    table = glue.get_table(DatabaseName=active_database_name, Name=active_table_name)\n",
    "    parameters = table[\"Table\"][\"Parameters\"]\n",
    "    full_path_metadata_location = parameters[\"metadata_location\"]\n",
    "    full_path_previous_metadata_location = parameters[\"previous_metadata_location\"]\n",
    "    return full_path_metadata_location.split('/')[-1], full_path_previous_metadata_location.split('/')[-1]\n",
    "\n",
    "print(active_iceberg_table_metadata(\"zero\", \"bg1active\"))    "
   ]
  },
  {
   "cell_type": "code",
   "execution_count": 3,
   "id": "1cc6a203-2cad-4371-8603-d187819b1cc1",
   "metadata": {},
   "outputs": [
    {
     "data": {
      "text/plain": [
       "<pyspark.conf.SparkConf at 0xffff800969b0>"
      ]
     },
     "execution_count": 3,
     "metadata": {},
     "output_type": "execute_result"
    }
   ],
   "source": [
    "sp_conf = SparkConf() \n",
    "sp_conf.set(\"spark.sql.catalog.spark_catalog\", \"org.apache.iceberg.spark.SparkSessionCatalog\")\n",
    "sp_conf.set(\"spark.sql.catalog.glue_catalog.warehouse\", \"s3://mait-warehouse/\")\n",
    "sp_conf.set(\"spark.sql.catalog.glue_catalog.catalog-impl\", \"org.apache.iceberg.aws.glue.GlueCatalog\")\n",
    "sp_conf.set(\"spark.sql.catalog.glue_catalog.io-impl\", \"org.apache.iceberg.aws.s3.S3FileIO\")\n",
    "sp_conf.set(\"spark.sql.extensions\", \"org.apache.iceberg.spark.extensions.IcebergSparkSessionExtensions\")\n"
   ]
  },
  {
   "cell_type": "code",
   "execution_count": 4,
   "id": "81cfb9f4-5da3-4094-8587-927a5fd0d92f",
   "metadata": {},
   "outputs": [
    {
     "name": "stderr",
     "output_type": "stream",
     "text": [
      "25/07/28 00:23:14 WARN SparkSession: Using an existing Spark session; only runtime SQL configurations will take effect.\n"
     ]
    }
   ],
   "source": [
    "spark = SparkSession.builder \\\n",
    "    .appName(\"Glue-Iceberg Integration\") \\\n",
    "    .config(conf=sp_conf) \\\n",
    "    .getOrCreate()\n",
    "\n",
    "spark.conf.set(\"spark.sql.catalog.spark_catalog\", \"org.apache.iceberg.spark.SparkCatalog\")\n",
    "spark.conf.set(\"spark.sql.catalog.glue_catalog.warehouse\", \"s3://mait-warehouse/\")\n",
    "spark.conf.set(\"spark.sql.catalog.glue_catalog.catalog-impl\", \"org.apache.iceberg.aws.glue.GlueCatalog\")\n",
    "spark.conf.set(\"spark.sql.catalog.glue_catalog.io-impl\", \"org.apache.iceberg.aws.s3.S3FileIO\")\n",
    "spark.conf.set(\"spark.sql.defaultCatalog\",\"glue_catalog\")\n",
    "spark.conf.set(\"spark.hadoop.fs.s3.impl\", \"org.apache.hadoop.fs.s3a.S3AFileSystem\")\n",
    "spark.conf.set(\"spark.hadoop.fs.s3a.aws.credentials.provider\", \"com.amazonaws.auth.profile.DefaultAWSCredentialsProviderChain\")\n",
    "spark.conf.set(\"spark.hadoop.fs.s3a.aws.profile\", \"com.amazonaws.auth.profile.DefaultAWSCredentialsProviderChain\")\n",
    "spark._jsc.hadoopConfiguration().set(\"fs.s3a.aws.profile\", \"adfs\")\n",
    "spark._jsc.hadoopConfiguration().set(\"fs.s3a.aws.credentials.provider\", \"com.amazonaws.auth.DefaultAWSCredentialsProviderChain\")\n",
    "\n"
   ]
  },
  {
   "cell_type": "code",
   "execution_count": 5,
   "id": "8c834197-2f7e-4e07-9b99-b8898c332a8a",
   "metadata": {},
   "outputs": [],
   "source": [
    "# spark.sql(\"\"\"\n",
    "#     CREATE TABLE glue_catalog.zero.bg1active (\n",
    "#         id INT,\n",
    "#         name STRING\n",
    "#     )\n",
    "#     USING iceberg TBLPROPERTIES ('write.metadata.path' = 's3://mait-warehouse/zero.db/bg1active/metadata-east/');\n",
    "# \"\"\")"
   ]
  },
  {
   "cell_type": "code",
   "execution_count": 6,
   "id": "5ee78707-87fc-4c3a-b3c0-7231838be570",
   "metadata": {},
   "outputs": [
    {
     "name": "stdout",
     "output_type": "stream",
     "text": [
      "+--------+\n",
      "|count(1)|\n",
      "+--------+\n",
      "|     700|\n",
      "+--------+\n",
      "\n",
      "+--------+\n",
      "|count(1)|\n",
      "+--------+\n",
      "|     400|\n",
      "+--------+\n",
      "\n"
     ]
    }
   ],
   "source": [
    "spark.sql(\"select count(*) from glue_catalog.zero.bg1active\").show()\n",
    "spark.sql(\"select count(*) from glue_catalog.zero.bg1passive\").show()"
   ]
  },
  {
   "cell_type": "code",
   "execution_count": 8,
   "id": "fb978d71-cf41-4c9e-a44a-aa3a350bc933",
   "metadata": {},
   "outputs": [
    {
     "name": "stdout",
     "output_type": "stream",
     "text": [
      "+---+---------+\n",
      "| id|     name|\n",
      "+---+---------+\n",
      "|  0|name_7193|\n",
      "|  1|name_2758|\n",
      "|  2|name_2408|\n",
      "|  3|name_8596|\n",
      "|  4|name_8167|\n",
      "|  5|name_5507|\n",
      "|  6|name_1583|\n",
      "|  7|name_9878|\n",
      "|  8|name_4645|\n",
      "|  9|name_2891|\n",
      "| 10|name_5752|\n",
      "| 11|name_8196|\n",
      "| 12|name_1390|\n",
      "| 13|name_2557|\n",
      "| 14|name_7962|\n",
      "| 15|name_1669|\n",
      "| 16|name_7889|\n",
      "| 17|name_9543|\n",
      "| 18|name_1309|\n",
      "| 19|name_2807|\n",
      "+---+---------+\n",
      "only showing top 20 rows\n",
      "\n"
     ]
    },
    {
     "data": {
      "text/plain": [
       "DataFrame[]"
      ]
     },
     "execution_count": 8,
     "metadata": {},
     "output_type": "execute_result"
    }
   ],
   "source": [
    "import random\n",
    "from pyspark.sql.types import StructType, StructField, IntegerType, StringType\n",
    "\n",
    "write_to_db = \"zero\"\n",
    "write_to_table = \"bg1active\"\n",
    "\n",
    "data = [(i, f\"name_{random.randint(1000, 9999)}\") for i in range(100)]\n",
    "\n",
    "# Step 2: Create DataFrame with schema id(int), name(string)\n",
    "schema = StructType([\n",
    "    StructField(\"id\", IntegerType(), False),\n",
    "    StructField(\"name\", StringType(), False)\n",
    "])\n",
    "df = spark.createDataFrame(data, schema)\n",
    "\n",
    "df.createOrReplaceTempView(\"temp_table1\")\n",
    "\n",
    "df.show()\n",
    "\n",
    "spark.sql(f\"\"\"\n",
    "    INSERT INTO glue_catalog.{write_to_db}.{write_to_table}\n",
    "    SELECT id, name FROM temp_table1\n",
    "\"\"\")"
   ]
  },
  {
   "cell_type": "code",
   "execution_count": 9,
   "id": "87a9488a-b63c-4fbd-8c7a-6c67fef41391",
   "metadata": {},
   "outputs": [
    {
     "name": "stderr",
     "output_type": "stream",
     "text": [
      "25/07/28 00:24:17 WARN MetricsConfig: Cannot locate configuration: tried hadoop-metrics2-s3a-file-system.properties,hadoop-metrics2.properties\n",
      "25/07/28 00:24:19 WARN AbstractS3ACommitterFactory: Using standard FileOutputCommitter to commit work. This is slow and potentially unsafe.\n",
      "25/07/28 00:24:19 WARN AbstractS3ACommitterFactory: Using standard FileOutputCommitter to commit work. This is slow and potentially unsafe.\n",
      "                                                                                "
     ]
    },
    {
     "data": {
      "text/plain": [
       "DataFrame[latest_version: string, file_list_location: string]"
      ]
     },
     "execution_count": 9,
     "metadata": {},
     "output_type": "execute_result"
    }
   ],
   "source": [
    "spark.sql(\"\"\"\n",
    "  CALL glue_catalog.system.rewrite_table_path(\n",
    "    table => 'zero.bg1active',\n",
    "    source_prefix => 's3://mait-warehouse/',\n",
    "    target_prefix => 's3://mait-warehouse-replica/',\n",
    "    staging_location => 's3a://mait-warehouse/zero.db/bg1active/staging_west'\n",
    "  )\n",
    "\"\"\")"
   ]
  },
  {
   "cell_type": "code",
   "execution_count": null,
   "id": "1bba8cda-95ce-46f0-95f6-aea0a1bfe8d5",
   "metadata": {},
   "outputs": [],
   "source": []
  },
  {
   "cell_type": "code",
   "execution_count": null,
   "id": "8928ccf6-b99c-4a5f-ba1e-bfd6cb068349",
   "metadata": {},
   "outputs": [],
   "source": []
  }
 ],
 "metadata": {
  "kernelspec": {
   "display_name": "Python 3 (ipykernel)",
   "language": "python",
   "name": "python3"
  },
  "language_info": {
   "codemirror_mode": {
    "name": "ipython",
    "version": 3
   },
   "file_extension": ".py",
   "mimetype": "text/x-python",
   "name": "python",
   "nbconvert_exporter": "python",
   "pygments_lexer": "ipython3",
   "version": "3.10.18"
  }
 },
 "nbformat": 4,
 "nbformat_minor": 5
}
