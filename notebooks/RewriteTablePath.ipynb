{
 "cells": [
  {
   "cell_type": "code",
   "execution_count": 2,
   "id": "61158220-0140-448d-b9b5-c7ae56d073fb",
   "metadata": {},
   "outputs": [],
   "source": [
    "from pyspark.sql import SparkSession\n",
    "from pyspark import SparkConf"
   ]
  },
  {
   "cell_type": "code",
   "execution_count": 3,
   "id": "1cc6a203-2cad-4371-8603-d187819b1cc1",
   "metadata": {},
   "outputs": [
    {
     "data": {
      "text/plain": [
       "<pyspark.conf.SparkConf at 0xffffaab88c10>"
      ]
     },
     "execution_count": 3,
     "metadata": {},
     "output_type": "execute_result"
    }
   ],
   "source": [
    "sp_conf = SparkConf() \n",
    "sp_conf.set(\"spark.sql.catalog.glue_catalog\", \"org.apache.iceberg.spark.SparkCatalog\")\n",
    "sp_conf.set(\"spark.sql.catalog.glue_catalog.warehouse\", \"s3://iceberg-wh-east/\")\n",
    "sp_conf.set(\"spark.sql.catalog.glue_catalog.catalog-impl\", \"org.apache.iceberg.aws.glue.GlueCatalog\")\n",
    "sp_conf.set(\"spark.sql.catalog.glue_catalog.io-impl\", \"org.apache.iceberg.aws.s3.S3FileIO\")\n",
    "sp_conf.set(\"spark.sql.extensions\", \"org.apache.iceberg.spark.extensions.IcebergSparkSessionExtensions\")"
   ]
  },
  {
   "cell_type": "code",
   "execution_count": 4,
   "id": "81cfb9f4-5da3-4094-8587-927a5fd0d92f",
   "metadata": {},
   "outputs": [
    {
     "name": "stderr",
     "output_type": "stream",
     "text": [
      "25/07/31 19:00:44 WARN SparkSession: Using an existing Spark session; only runtime SQL configurations will take effect.\n"
     ]
    }
   ],
   "source": [
    "spark = SparkSession.builder \\\n",
    "    .appName(\"Glue-Iceberg-Integration\") \\\n",
    "    .config(conf=sp_conf) \\\n",
    "    .getOrCreate()"
   ]
  },
  {
   "cell_type": "code",
   "execution_count": 5,
   "id": "029a1e6f-20a7-4804-b7ed-20287496b92d",
   "metadata": {},
   "outputs": [
    {
     "data": {
      "text/plain": [
       "DataFrame[]"
      ]
     },
     "execution_count": 5,
     "metadata": {},
     "output_type": "execute_result"
    }
   ],
   "source": [
    "spark.sql(\"\"\"\n",
    "    CREATE DATABASE IF NOT EXISTS glue_catalog.berg \n",
    "\"\"\")"
   ]
  },
  {
   "cell_type": "code",
   "execution_count": 6,
   "id": "8c834197-2f7e-4e07-9b99-b8898c332a8a",
   "metadata": {},
   "outputs": [
    {
     "data": {
      "text/plain": [
       "DataFrame[]"
      ]
     },
     "execution_count": 6,
     "metadata": {},
     "output_type": "execute_result"
    }
   ],
   "source": [
    "spark.sql(\"\"\"\n",
    "    CREATE TABLE IF NOT EXISTS glue_catalog.berg.icetable1 (\n",
    "        id INT,\n",
    "        name STRING\n",
    "    )\n",
    "    USING iceberg\n",
    "\"\"\")"
   ]
  },
  {
   "cell_type": "code",
   "execution_count": 7,
   "id": "5ee78707-87fc-4c3a-b3c0-7231838be570",
   "metadata": {},
   "outputs": [
    {
     "name": "stdout",
     "output_type": "stream",
     "text": [
      "+--------+\n",
      "|count(1)|\n",
      "+--------+\n",
      "|     100|\n",
      "+--------+\n",
      "\n"
     ]
    }
   ],
   "source": [
    "spark.sql(\"select count(*) from glue_catalog.berg.icetable1\").show()"
   ]
  },
  {
   "cell_type": "code",
   "execution_count": 7,
   "id": "fb978d71-cf41-4c9e-a44a-aa3a350bc933",
   "metadata": {},
   "outputs": [
    {
     "name": "stdout",
     "output_type": "stream",
     "text": [
      "+---+---------+\n",
      "| id|     name|\n",
      "+---+---------+\n",
      "|  0|name_2257|\n",
      "|  1|name_8457|\n",
      "|  2|name_7685|\n",
      "|  3|name_8362|\n",
      "|  4|name_3968|\n",
      "|  5|name_6643|\n",
      "|  6|name_5634|\n",
      "|  7|name_5136|\n",
      "|  8|name_4861|\n",
      "|  9|name_2365|\n",
      "| 10|name_5435|\n",
      "| 11|name_8013|\n",
      "| 12|name_2825|\n",
      "| 13|name_7162|\n",
      "| 14|name_3668|\n",
      "| 15|name_3766|\n",
      "| 16|name_9029|\n",
      "| 17|name_7494|\n",
      "| 18|name_5732|\n",
      "| 19|name_7118|\n",
      "+---+---------+\n",
      "only showing top 20 rows\n",
      "\n"
     ]
    },
    {
     "name": "stderr",
     "output_type": "stream",
     "text": [
      "                                                                                "
     ]
    },
    {
     "data": {
      "text/plain": [
       "DataFrame[]"
      ]
     },
     "execution_count": 7,
     "metadata": {},
     "output_type": "execute_result"
    }
   ],
   "source": [
    "import random\n",
    "from pyspark.sql.types import StructType, StructField, IntegerType, StringType\n",
    "\n",
    "write_to_db = \"berg\"\n",
    "write_to_table = \"icetable1\"\n",
    "\n",
    "data = [(i, f\"name_{random.randint(1000, 9999)}\") for i in range(100)]\n",
    "\n",
    "# Step 2: Create DataFrame with schema id(int), name(string)\n",
    "schema = StructType([\n",
    "    StructField(\"id\", IntegerType(), False),\n",
    "    StructField(\"name\", StringType(), False)\n",
    "])\n",
    "df = spark.createDataFrame(data, schema)\n",
    "\n",
    "df.createOrReplaceTempView(\"temp_table1\")\n",
    "\n",
    "df.show()\n",
    "\n",
    "spark.sql(f\"\"\"\n",
    "    INSERT INTO glue_catalog.{write_to_db}.{write_to_table}\n",
    "    SELECT id, name FROM temp_table1\n",
    "\"\"\")"
   ]
  },
  {
   "cell_type": "code",
   "execution_count": 7,
   "id": "1c7344fe-9516-4f62-9ba2-1af2436b6fb6",
   "metadata": {},
   "outputs": [
    {
     "name": "stdout",
     "output_type": "stream",
     "text": [
      "+--------+\n",
      "|count(1)|\n",
      "+--------+\n",
      "|     100|\n",
      "+--------+\n",
      "\n"
     ]
    }
   ],
   "source": [
    "spark.sql(\"select count(*) from glue_catalog.berg.icetable1\").show()"
   ]
  },
  {
   "cell_type": "code",
   "execution_count": 8,
   "id": "87a9488a-b63c-4fbd-8c7a-6c67fef41391",
   "metadata": {},
   "outputs": [
    {
     "name": "stderr",
     "output_type": "stream",
     "text": [
      "25/07/31 18:44:31 WARN MetricsConfig: Cannot locate configuration: tried hadoop-metrics2-s3a-file-system.properties,hadoop-metrics2.properties\n",
      "25/07/31 18:44:34 WARN AbstractS3ACommitterFactory: Using standard FileOutputCommitter to commit work. This is slow and potentially unsafe.\n",
      "25/07/31 18:44:36 WARN AbstractS3ACommitterFactory: Using standard FileOutputCommitter to commit work. This is slow and potentially unsafe.\n",
      "                                                                                "
     ]
    },
    {
     "data": {
      "text/plain": [
       "DataFrame[latest_version: string, file_list_location: string]"
      ]
     },
     "execution_count": 8,
     "metadata": {},
     "output_type": "execute_result"
    }
   ],
   "source": [
    "spark.sql(\"\"\"\n",
    "  CALL glue_catalog.system.rewrite_table_path(\n",
    "    table => 'berg.icetable1',\n",
    "    source_prefix => 's3://iceberg-wh-east',\n",
    "    target_prefix => 's3://iceberg-wh-west',\n",
    "    staging_location => 's3a://iceberg-wh-east/berg.db/icetable1/staging_west_metadata'\n",
    "  )\n",
    "\"\"\")"
   ]
  },
  {
   "cell_type": "code",
   "execution_count": 9,
   "id": "ad1b45a9-17e1-48c7-bdbb-e94e9feb3a3d",
   "metadata": {},
   "outputs": [
    {
     "name": "stdout",
     "output_type": "stream",
     "text": [
      "('00001-41339c6e-92d1-4458-86f6-e8ebc9d89da5.metadata.json', '00000-a965cd33-3b31-4f67-97df-7bf089f8e25f.metadata.json')\n"
     ]
    }
   ],
   "source": [
    "import boto3\n",
    "def active_iceberg_table_metadata(active_database_name, active_table_name):\n",
    "    glue = boto3.client(\"glue\", region_name = 'us-east-1')\n",
    "    table = glue.get_table(DatabaseName=active_database_name, Name=active_table_name)\n",
    "    parameters = table[\"Table\"][\"Parameters\"]\n",
    "    full_path_metadata_location = parameters[\"metadata_location\"]\n",
    "    full_path_previous_metadata_location = parameters[\"previous_metadata_location\"]\n",
    "    return full_path_metadata_location.split('/')[-1], full_path_previous_metadata_location.split('/')[-1]\n",
    "\n",
    "print(active_iceberg_table_metadata(\"berg\", \"icetable1\"))   "
   ]
  },
  {
   "cell_type": "code",
   "execution_count": null,
   "id": "b4600049-d5dd-4033-ad85-50eb86f33b59",
   "metadata": {},
   "outputs": [],
   "source": []
  }
 ],
 "metadata": {
  "kernelspec": {
   "display_name": "Python 3 (ipykernel)",
   "language": "python",
   "name": "python3"
  },
  "language_info": {
   "codemirror_mode": {
    "name": "ipython",
    "version": 3
   },
   "file_extension": ".py",
   "mimetype": "text/x-python",
   "name": "python",
   "nbconvert_exporter": "python",
   "pygments_lexer": "ipython3",
   "version": "3.10.18"
  }
 },
 "nbformat": 4,
 "nbformat_minor": 5
}
