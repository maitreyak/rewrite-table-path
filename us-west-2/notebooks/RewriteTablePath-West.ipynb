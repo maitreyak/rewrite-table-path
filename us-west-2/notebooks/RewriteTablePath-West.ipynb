{
 "cells": [
  {
   "cell_type": "code",
   "execution_count": 2,
   "id": "61158220-0140-448d-b9b5-c7ae56d073fb",
   "metadata": {},
   "outputs": [],
   "source": [
    "from pyspark.sql import SparkSession\n",
    "from pyspark import SparkConf"
   ]
  },
  {
   "cell_type": "code",
   "execution_count": 3,
   "id": "1cc6a203-2cad-4371-8603-d187819b1cc1",
   "metadata": {},
   "outputs": [
    {
     "data": {
      "text/plain": [
       "<pyspark.conf.SparkConf at 0xffff9cd2e140>"
      ]
     },
     "execution_count": 3,
     "metadata": {},
     "output_type": "execute_result"
    }
   ],
   "source": [
    "sp_conf = SparkConf() \n",
    "sp_conf.set(\"spark.sql.catalog.glue_catalog\", \"org.apache.iceberg.spark.SparkCatalog\")\n",
    "sp_conf.set(\"spark.sql.catalog.glue_catalog.warehouse\", \"s3://iceberg-wh-west/\")\n",
    "sp_conf.set(\"spark.sql.catalog.glue_catalog.catalog-impl\", \"org.apache.iceberg.aws.glue.GlueCatalog\")\n",
    "sp_conf.set(\"spark.sql.catalog.glue_catalog.io-impl\", \"org.apache.iceberg.aws.s3.S3FileIO\")\n",
    "sp_conf.set(\"spark.sql.extensions\", \"org.apache.iceberg.spark.extensions.IcebergSparkSessionExtensions\")"
   ]
  },
  {
   "cell_type": "code",
   "execution_count": 4,
   "id": "81cfb9f4-5da3-4094-8587-927a5fd0d92f",
   "metadata": {},
   "outputs": [
    {
     "name": "stderr",
     "output_type": "stream",
     "text": [
      "25/07/31 19:15:49 WARN SparkSession: Using an existing Spark session; only runtime SQL configurations will take effect.\n"
     ]
    }
   ],
   "source": [
    "spark = SparkSession.builder \\\n",
    "    .appName(\"Glue-Iceberg-Integration\") \\\n",
    "    .config(conf=sp_conf) \\\n",
    "    .getOrCreate()"
   ]
  },
  {
   "cell_type": "code",
   "execution_count": 5,
   "id": "029a1e6f-20a7-4804-b7ed-20287496b92d",
   "metadata": {},
   "outputs": [
    {
     "data": {
      "text/plain": [
       "DataFrame[]"
      ]
     },
     "execution_count": 5,
     "metadata": {},
     "output_type": "execute_result"
    }
   ],
   "source": [
    "spark.sql(\"\"\"\n",
    "    CREATE DATABASE IF NOT EXISTS glue_catalog.berg \n",
    "\"\"\")"
   ]
  },
  {
   "cell_type": "code",
   "execution_count": 15,
   "id": "d27d6646-a4bb-46e6-82a9-edbda637769e",
   "metadata": {},
   "outputs": [
    {
     "data": {
      "text/plain": [
       "DataFrame[current_snapshot_id: bigint, total_records_count: bigint, total_data_files_count: bigint]"
      ]
     },
     "execution_count": 15,
     "metadata": {},
     "output_type": "execute_result"
    }
   ],
   "source": [
    "spark.sql(\"\"\"\n",
    "  CALL glue_catalog.system.register_table(\n",
    "    table => 'berg.icetable1',\n",
    "    metadata_file => 's3://iceberg-wh-west/berg.db/icetable1/metadata/00002-16fa8b62-7251-4eed-8e6c-c97d2e2594fa.metadata.json'\n",
    "  )\n",
    "\"\"\")"
   ]
  },
  {
   "cell_type": "code",
   "execution_count": 8,
   "id": "5ee78707-87fc-4c3a-b3c0-7231838be570",
   "metadata": {},
   "outputs": [
    {
     "name": "stdout",
     "output_type": "stream",
     "text": [
      "+--------+\n",
      "|count(1)|\n",
      "+--------+\n",
      "|     200|\n",
      "+--------+\n",
      "\n"
     ]
    }
   ],
   "source": [
    "spark.sql(\"select count(*) from glue_catalog.berg.icetable1\").show()"
   ]
  },
  {
   "cell_type": "code",
   "execution_count": 22,
   "id": "fb978d71-cf41-4c9e-a44a-aa3a350bc933",
   "metadata": {},
   "outputs": [
    {
     "name": "stdout",
     "output_type": "stream",
     "text": [
      "+---+---------+\n",
      "| id|     name|\n",
      "+---+---------+\n",
      "|  0|name_2035|\n",
      "|  1|name_6140|\n",
      "|  2|name_5277|\n",
      "|  3|name_4601|\n",
      "|  4|name_1646|\n",
      "|  5|name_3085|\n",
      "|  6|name_3107|\n",
      "|  7|name_9353|\n",
      "|  8|name_1659|\n",
      "|  9|name_4114|\n",
      "| 10|name_8145|\n",
      "| 11|name_6816|\n",
      "| 12|name_2026|\n",
      "| 13|name_5889|\n",
      "| 14|name_9802|\n",
      "| 15|name_3176|\n",
      "| 16|name_2154|\n",
      "| 17|name_6764|\n",
      "| 18|name_3404|\n",
      "| 19|name_3525|\n",
      "+---+---------+\n",
      "only showing top 20 rows\n",
      "\n"
     ]
    },
    {
     "name": "stderr",
     "output_type": "stream",
     "text": [
      "                                                                                "
     ]
    },
    {
     "data": {
      "text/plain": [
       "DataFrame[]"
      ]
     },
     "execution_count": 22,
     "metadata": {},
     "output_type": "execute_result"
    }
   ],
   "source": [
    "import random\n",
    "from pyspark.sql.types import StructType, StructField, IntegerType, StringType\n",
    "\n",
    "write_to_db = \"berg\"\n",
    "write_to_table = \"icetable1\"\n",
    "\n",
    "data = [(i, f\"name_{random.randint(1000, 9999)}\") for i in range(100)]\n",
    "\n",
    "# Step 2: Create DataFrame with schema id(int), name(string)\n",
    "schema = StructType([\n",
    "    StructField(\"id\", IntegerType(), False),\n",
    "    StructField(\"name\", StringType(), False)\n",
    "])\n",
    "df = spark.createDataFrame(data, schema)\n",
    "\n",
    "df.createOrReplaceTempView(\"temp_table1\")\n",
    "\n",
    "df.show()\n",
    "\n",
    "spark.sql(f\"\"\"\n",
    "    INSERT INTO glue_catalog.{write_to_db}.{write_to_table}\n",
    "    SELECT id, name FROM temp_table1\n",
    "\"\"\")"
   ]
  },
  {
   "cell_type": "code",
   "execution_count": 39,
   "id": "1c7344fe-9516-4f62-9ba2-1af2436b6fb6",
   "metadata": {},
   "outputs": [
    {
     "name": "stdout",
     "output_type": "stream",
     "text": [
      "+--------+\n",
      "|count(1)|\n",
      "+--------+\n",
      "|     300|\n",
      "+--------+\n",
      "\n"
     ]
    }
   ],
   "source": [
    "spark.sql(\"select count(*) from glue_catalog.berg.icetable1\").show()"
   ]
  },
  {
   "cell_type": "code",
   "execution_count": 24,
   "id": "87a9488a-b63c-4fbd-8c7a-6c67fef41391",
   "metadata": {},
   "outputs": [
    {
     "name": "stderr",
     "output_type": "stream",
     "text": [
      "25/07/31 20:05:54 WARN AbstractS3ACommitterFactory: Using standard FileOutputCommitter to commit work. This is slow and potentially unsafe.\n",
      "25/07/31 20:05:55 WARN AbstractS3ACommitterFactory: Using standard FileOutputCommitter to commit work. This is slow and potentially unsafe.\n",
      "                                                                                "
     ]
    },
    {
     "data": {
      "text/plain": [
       "DataFrame[latest_version: string, file_list_location: string]"
      ]
     },
     "execution_count": 24,
     "metadata": {},
     "output_type": "execute_result"
    }
   ],
   "source": [
    "spark.sql(\"\"\"\n",
    "  CALL glue_catalog.system.rewrite_table_path(\n",
    "    table => 'berg.icetable1',\n",
    "    source_prefix => 's3://iceberg-wh-west',\n",
    "    target_prefix => 's3://iceberg-wh-east',\n",
    "    staging_location => 's3a://iceberg-wh-west/berg.db/icetable1/staging_east_metadata'\n",
    "  )\n",
    "\"\"\")"
   ]
  },
  {
   "cell_type": "code",
   "execution_count": 25,
   "id": "ad1b45a9-17e1-48c7-bdbb-e94e9feb3a3d",
   "metadata": {},
   "outputs": [
    {
     "name": "stdout",
     "output_type": "stream",
     "text": [
      "00003-19cbcc94-a339-4934-949d-888a57eeb46f.metadata.json\n"
     ]
    }
   ],
   "source": [
    "import boto3\n",
    "def active_iceberg_table_metadata(active_database_name, active_table_name):\n",
    "    glue = boto3.client(\"glue\", region_name = 'us-west-2')\n",
    "    table = glue.get_table(DatabaseName=active_database_name, Name=active_table_name)\n",
    "    parameters = table[\"Table\"][\"Parameters\"]\n",
    "    full_path_metadata_location = parameters[\"metadata_location\"]\n",
    "    return full_path_metadata_location.split('/')[-1]\n",
    "\n",
    "print(active_iceberg_table_metadata(\"berg\", \"icetable1\"))   "
   ]
  },
  {
   "cell_type": "code",
   "execution_count": 38,
   "id": "b4600049-d5dd-4033-ad85-50eb86f33b59",
   "metadata": {},
   "outputs": [
    {
     "name": "stdout",
     "output_type": "stream",
     "text": [
      "{'Name': 'icetable1', 'Retention': 0, 'StorageDescriptor': {'Columns': [{'Name': 'id', 'Type': 'int', 'Parameters': {'iceberg.field.current': 'true', 'iceberg.field.id': '1', 'iceberg.field.optional': 'true'}}, {'Name': 'name', 'Type': 'string', 'Parameters': {'iceberg.field.current': 'true', 'iceberg.field.id': '2', 'iceberg.field.optional': 'true'}}], 'Location': 's3://iceberg-wh-west/berg.db/icetable1', 'AdditionalLocations': [], 'Compressed': False, 'NumberOfBuckets': 0, 'SortColumns': [], 'StoredAsSubDirectories': False}, 'TableType': 'EXTERNAL_TABLE', 'Parameters': {'metadata_location': 's3://iceberg-wh-west/berg.db/icetable1/metadata/00003-19cbcc94-a339-4934-949d-888a57eeb46f.metadata.json', 'previous_metadata_location': 's3://iceberg-wh-west/berg.db/icetable1/metadata/00002-16fa8b62-7251-4eed-8e6c-c97d2e2594fa.metadata.json', 'table_type': 'ICEBERG'}}\n"
     ]
    }
   ],
   "source": [
    "def update_iceberg_table_metadata(active_database_name, active_table_name, metadata):\n",
    "    glue = boto3.client(\"glue\", region_name = 'us-west-2')\n",
    "    table = glue.get_table(DatabaseName=active_database_name, Name=active_table_name)\n",
    "    table_input = table[\"Table\"]\n",
    "    table_input[\"Parameters\"][\"metadata_location\"] = f\"s3://iceberg-wh-west/berg.db/icetable1/metadata/{metadata}\"\n",
    "    \n",
    "    keys_to_remove = ['CreateTime', 'UpdateTime', 'IsRegisteredWithLakeFormation', 'CatalogId', 'DatabaseName', 'CreatedBy', 'VersionId', 'IsMultiDialectView']\n",
    "    \n",
    "    for key in keys_to_remove:\n",
    "        if key in table_input: del table_input[key]\n",
    "\n",
    "    print(table_input)\n",
    "    glue.update_table(\n",
    "        DatabaseName=active_database_name,\n",
    "        TableInput=table_input\n",
    "    )\n",
    "    return\n",
    "update_iceberg_table_metadata(\"berg\", \"icetable1\", \"00003-19cbcc94-a339-4934-949d-888a57eeb46f.metadata.json\")    "
   ]
  },
  {
   "cell_type": "code",
   "execution_count": null,
   "id": "f4e34b00-e01b-4cff-aefe-575a93af1a12",
   "metadata": {},
   "outputs": [],
   "source": []
  }
 ],
 "metadata": {
  "kernelspec": {
   "display_name": "Python 3 (ipykernel)",
   "language": "python",
   "name": "python3"
  },
  "language_info": {
   "codemirror_mode": {
    "name": "ipython",
    "version": 3
   },
   "file_extension": ".py",
   "mimetype": "text/x-python",
   "name": "python",
   "nbconvert_exporter": "python",
   "pygments_lexer": "ipython3",
   "version": "3.10.18"
  }
 },
 "nbformat": 4,
 "nbformat_minor": 5
}
